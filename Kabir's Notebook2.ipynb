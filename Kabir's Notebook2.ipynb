{
 "cells": [
  {
   "cell_type": "markdown",
   "metadata": {},
   "source": [
    "# Lesson 01 ... Welcome to pandas"
   ]
  },
  {
   "cell_type": "markdown",
   "metadata": {},
   "source": [
    "We will start with importing some libraries we need and then play with some data to understand basic python commands. What data shall we work with? Well, let us pull down some data on criminal incidences that were reported."
   ]
  },
  {
   "cell_type": "markdown",
   "metadata": {},
   "source": [
    "First we install a particular library called `pandas` and in the command that follows, note that `pd` is just the alias that pandas assumes so that we can type `pd` and have all the `pandas` commands at our disposal."
   ]
  },
  {
   "cell_type": "code",
   "execution_count": 4,
   "metadata": {},
   "outputs": [],
   "source": [
    "import pandas as pd \n",
    "import numpy as np"
   ]
  },
  {
   "cell_type": "markdown",
   "metadata": {},
   "source": [
    "The crime incident reports data are [available here](\"https://data.boston.gov/dataset/6220d948-eae2-4e4b-8723-2dc8e67722a3/resource/12cb3883-56f5-47de-afa5-3b1cf61b257b/download/tmpayw7hysb.csv\") and span multiple years so we may end up working only with 2019 data but for now we proceed by gathering everything.\n",
    "\n",
    "In the command below, the key part is `pd.read_csv()` and inside it is the URL for the comma-separated variable file. Once the file is downloaded by `pandas` we are saving it in python with the name `df` \n",
    "\n",
    "Note that data-sets, data-files are usually referred to as a `data-frame` in python and hence the alias of `df`.\n"
   ]
  },
  {
   "cell_type": "code",
   "execution_count": 5,
   "metadata": {},
   "outputs": [
    {
     "name": "stderr",
     "output_type": "stream",
     "text": [
      "/srv/conda/envs/notebook/lib/python3.7/site-packages/IPython/core/interactiveshell.py:3072: DtypeWarning: Columns (0,2,6,12) have mixed types.Specify dtype option on import or set low_memory=False.\n",
      "  interactivity=interactivity, compiler=compiler, result=result)\n"
     ]
    }
   ],
   "source": [
    "df = pd.read_csv(\"https://data.boston.gov/dataset/6220d948-eae2-4e4b-8723-2dc8e67722a3/resource/12cb3883-56f5-47de-afa5-3b1cf61b257b/download/tmpayw7hysb.csv\")"
   ]
  },
  {
   "cell_type": "markdown",
   "metadata": {},
   "source": [
    "Let us look at the first 5 rows of data to get a feel for the layout. The command is `.head(5)`"
   ]
  },
  {
   "cell_type": "code",
   "execution_count": 7,
   "metadata": {},
   "outputs": [
    {
     "data": {
      "text/html": [
       "<div>\n",
       "<style scoped>\n",
       "    .dataframe tbody tr th:only-of-type {\n",
       "        vertical-align: middle;\n",
       "    }\n",
       "\n",
       "    .dataframe tbody tr th {\n",
       "        vertical-align: top;\n",
       "    }\n",
       "\n",
       "    .dataframe thead th {\n",
       "        text-align: right;\n",
       "    }\n",
       "</style>\n",
       "<table border=\"1\" class=\"dataframe\">\n",
       "  <thead>\n",
       "    <tr style=\"text-align: right;\">\n",
       "      <th></th>\n",
       "      <th>INCIDENT_NUMBER</th>\n",
       "      <th>OFFENSE_CODE</th>\n",
       "      <th>OFFENSE_CODE_GROUP</th>\n",
       "      <th>OFFENSE_DESCRIPTION</th>\n",
       "      <th>DISTRICT</th>\n",
       "      <th>REPORTING_AREA</th>\n",
       "      <th>SHOOTING</th>\n",
       "      <th>OCCURRED_ON_DATE</th>\n",
       "      <th>YEAR</th>\n",
       "      <th>MONTH</th>\n",
       "      <th>DAY_OF_WEEK</th>\n",
       "      <th>HOUR</th>\n",
       "      <th>UCR_PART</th>\n",
       "      <th>STREET</th>\n",
       "      <th>Lat</th>\n",
       "      <th>Long</th>\n",
       "      <th>Location</th>\n",
       "    </tr>\n",
       "  </thead>\n",
       "  <tbody>\n",
       "    <tr>\n",
       "      <th>0</th>\n",
       "      <td>TESTTEST2</td>\n",
       "      <td>423</td>\n",
       "      <td>NaN</td>\n",
       "      <td>ASSAULT - AGGRAVATED</td>\n",
       "      <td>External</td>\n",
       "      <td></td>\n",
       "      <td>0</td>\n",
       "      <td>2019-10-16 00:00:00</td>\n",
       "      <td>2019</td>\n",
       "      <td>10</td>\n",
       "      <td>Wednesday</td>\n",
       "      <td>0</td>\n",
       "      <td>NaN</td>\n",
       "      <td>RIVERVIEW DR</td>\n",
       "      <td>NaN</td>\n",
       "      <td>NaN</td>\n",
       "      <td>(0.00000000, 0.00000000)</td>\n",
       "    </tr>\n",
       "    <tr>\n",
       "      <th>1</th>\n",
       "      <td>S97333701</td>\n",
       "      <td>3301</td>\n",
       "      <td>NaN</td>\n",
       "      <td>VERBAL DISPUTE</td>\n",
       "      <td>C6</td>\n",
       "      <td>915</td>\n",
       "      <td>0</td>\n",
       "      <td>2020-07-18 14:34:00</td>\n",
       "      <td>2020</td>\n",
       "      <td>7</td>\n",
       "      <td>Saturday</td>\n",
       "      <td>14</td>\n",
       "      <td>NaN</td>\n",
       "      <td>MARY BOYLE WAY</td>\n",
       "      <td>42.330813</td>\n",
       "      <td>-71.051368</td>\n",
       "      <td>(42.33081300, -71.05136800)</td>\n",
       "    </tr>\n",
       "    <tr>\n",
       "      <th>2</th>\n",
       "      <td>S47513131</td>\n",
       "      <td>2647</td>\n",
       "      <td>NaN</td>\n",
       "      <td>THREATS TO DO BODILY HARM</td>\n",
       "      <td>E18</td>\n",
       "      <td>530</td>\n",
       "      <td>0</td>\n",
       "      <td>2020-06-24 10:15:00</td>\n",
       "      <td>2020</td>\n",
       "      <td>6</td>\n",
       "      <td>Wednesday</td>\n",
       "      <td>10</td>\n",
       "      <td>NaN</td>\n",
       "      <td>READVILLE ST</td>\n",
       "      <td>42.239491</td>\n",
       "      <td>-71.135954</td>\n",
       "      <td>(42.23949100, -71.13595400)</td>\n",
       "    </tr>\n",
       "    <tr>\n",
       "      <th>3</th>\n",
       "      <td>I92102201</td>\n",
       "      <td>3301</td>\n",
       "      <td>NaN</td>\n",
       "      <td>VERBAL DISPUTE</td>\n",
       "      <td>E13</td>\n",
       "      <td>583</td>\n",
       "      <td>0</td>\n",
       "      <td>2019-12-20 03:08:00</td>\n",
       "      <td>2019</td>\n",
       "      <td>12</td>\n",
       "      <td>Friday</td>\n",
       "      <td>3</td>\n",
       "      <td>NaN</td>\n",
       "      <td>DAY ST</td>\n",
       "      <td>42.325122</td>\n",
       "      <td>-71.107779</td>\n",
       "      <td>(42.32512200, -71.10777900)</td>\n",
       "    </tr>\n",
       "    <tr>\n",
       "      <th>4</th>\n",
       "      <td>I92097173</td>\n",
       "      <td>3115</td>\n",
       "      <td>NaN</td>\n",
       "      <td>INVESTIGATE PERSON</td>\n",
       "      <td>C11</td>\n",
       "      <td>355</td>\n",
       "      <td>0</td>\n",
       "      <td>2019-10-23 00:00:00</td>\n",
       "      <td>2019</td>\n",
       "      <td>10</td>\n",
       "      <td>Wednesday</td>\n",
       "      <td>0</td>\n",
       "      <td>NaN</td>\n",
       "      <td>GIBSON ST</td>\n",
       "      <td>42.297555</td>\n",
       "      <td>-71.059709</td>\n",
       "      <td>(42.29755500, -71.05970900)</td>\n",
       "    </tr>\n",
       "  </tbody>\n",
       "</table>\n",
       "</div>"
      ],
      "text/plain": [
       "  INCIDENT_NUMBER  OFFENSE_CODE OFFENSE_CODE_GROUP        OFFENSE_DESCRIPTION  \\\n",
       "0       TESTTEST2           423                NaN       ASSAULT - AGGRAVATED   \n",
       "1       S97333701          3301                NaN             VERBAL DISPUTE   \n",
       "2       S47513131          2647                NaN  THREATS TO DO BODILY HARM   \n",
       "3       I92102201          3301                NaN             VERBAL DISPUTE   \n",
       "4       I92097173          3115                NaN         INVESTIGATE PERSON   \n",
       "\n",
       "   DISTRICT REPORTING_AREA SHOOTING     OCCURRED_ON_DATE  YEAR  MONTH  \\\n",
       "0  External                       0  2019-10-16 00:00:00  2019     10   \n",
       "1        C6            915        0  2020-07-18 14:34:00  2020      7   \n",
       "2       E18            530        0  2020-06-24 10:15:00  2020      6   \n",
       "3       E13            583        0  2019-12-20 03:08:00  2019     12   \n",
       "4       C11            355        0  2019-10-23 00:00:00  2019     10   \n",
       "\n",
       "  DAY_OF_WEEK  HOUR UCR_PART          STREET        Lat       Long  \\\n",
       "0   Wednesday     0      NaN    RIVERVIEW DR        NaN        NaN   \n",
       "1    Saturday    14      NaN  MARY BOYLE WAY  42.330813 -71.051368   \n",
       "2   Wednesday    10      NaN    READVILLE ST  42.239491 -71.135954   \n",
       "3      Friday     3      NaN          DAY ST  42.325122 -71.107779   \n",
       "4   Wednesday     0      NaN       GIBSON ST  42.297555 -71.059709   \n",
       "\n",
       "                      Location  \n",
       "0     (0.00000000, 0.00000000)  \n",
       "1  (42.33081300, -71.05136800)  \n",
       "2  (42.23949100, -71.13595400)  \n",
       "3  (42.32512200, -71.10777900)  \n",
       "4  (42.29755500, -71.05970900)  "
      ]
     },
     "execution_count": 7,
     "metadata": {},
     "output_type": "execute_result"
    }
   ],
   "source": [
    "df.head(5)"
   ]
  },
  {
   "cell_type": "markdown",
   "metadata": {},
   "source": [
    "What about the last 10 rows of the data?"
   ]
  },
  {
   "cell_type": "code",
   "execution_count": 8,
   "metadata": {},
   "outputs": [
    {
     "data": {
      "text/html": [
       "<div>\n",
       "<style scoped>\n",
       "    .dataframe tbody tr th:only-of-type {\n",
       "        vertical-align: middle;\n",
       "    }\n",
       "\n",
       "    .dataframe tbody tr th {\n",
       "        vertical-align: top;\n",
       "    }\n",
       "\n",
       "    .dataframe thead th {\n",
       "        text-align: right;\n",
       "    }\n",
       "</style>\n",
       "<table border=\"1\" class=\"dataframe\">\n",
       "  <thead>\n",
       "    <tr style=\"text-align: right;\">\n",
       "      <th></th>\n",
       "      <th>INCIDENT_NUMBER</th>\n",
       "      <th>OFFENSE_CODE</th>\n",
       "      <th>OFFENSE_CODE_GROUP</th>\n",
       "      <th>OFFENSE_DESCRIPTION</th>\n",
       "      <th>DISTRICT</th>\n",
       "      <th>REPORTING_AREA</th>\n",
       "      <th>SHOOTING</th>\n",
       "      <th>OCCURRED_ON_DATE</th>\n",
       "      <th>YEAR</th>\n",
       "      <th>MONTH</th>\n",
       "      <th>DAY_OF_WEEK</th>\n",
       "      <th>HOUR</th>\n",
       "      <th>UCR_PART</th>\n",
       "      <th>STREET</th>\n",
       "      <th>Lat</th>\n",
       "      <th>Long</th>\n",
       "      <th>Location</th>\n",
       "    </tr>\n",
       "  </thead>\n",
       "  <tbody>\n",
       "    <tr>\n",
       "      <th>515072</th>\n",
       "      <td>102095489</td>\n",
       "      <td>3115</td>\n",
       "      <td>NaN</td>\n",
       "      <td>INVESTIGATE PERSON</td>\n",
       "      <td>E18</td>\n",
       "      <td>520</td>\n",
       "      <td>0</td>\n",
       "      <td>2019-11-25 16:30:00</td>\n",
       "      <td>2019</td>\n",
       "      <td>11</td>\n",
       "      <td>Monday</td>\n",
       "      <td>16</td>\n",
       "      <td>NaN</td>\n",
       "      <td>HYDE PARK AVE</td>\n",
       "      <td>42.256215</td>\n",
       "      <td>-71.124019</td>\n",
       "      <td>(42.25621500, -71.12401900)</td>\n",
       "    </tr>\n",
       "    <tr>\n",
       "      <th>515073</th>\n",
       "      <td>102091671</td>\n",
       "      <td>2647</td>\n",
       "      <td>NaN</td>\n",
       "      <td>THREATS TO DO BODILY HARM</td>\n",
       "      <td>B3</td>\n",
       "      <td>417</td>\n",
       "      <td>0</td>\n",
       "      <td>2019-11-12 12:00:00</td>\n",
       "      <td>2019</td>\n",
       "      <td>11</td>\n",
       "      <td>Tuesday</td>\n",
       "      <td>12</td>\n",
       "      <td>NaN</td>\n",
       "      <td>MORA ST</td>\n",
       "      <td>42.282081</td>\n",
       "      <td>-71.073648</td>\n",
       "      <td>(42.28208100, -71.07364800)</td>\n",
       "    </tr>\n",
       "    <tr>\n",
       "      <th>515074</th>\n",
       "      <td>020224065</td>\n",
       "      <td>3018</td>\n",
       "      <td>NaN</td>\n",
       "      <td>SICK/INJURED/MEDICAL - POLICE</td>\n",
       "      <td>B2</td>\n",
       "      <td>282</td>\n",
       "      <td>0</td>\n",
       "      <td>2020-03-19 07:30:00</td>\n",
       "      <td>2020</td>\n",
       "      <td>3</td>\n",
       "      <td>Thursday</td>\n",
       "      <td>7</td>\n",
       "      <td>NaN</td>\n",
       "      <td>WASHINGTON ST</td>\n",
       "      <td>42.353272</td>\n",
       "      <td>-71.173738</td>\n",
       "      <td>(42.35327200, -71.17373800)</td>\n",
       "    </tr>\n",
       "    <tr>\n",
       "      <th>515075</th>\n",
       "      <td>020202856</td>\n",
       "      <td>2672</td>\n",
       "      <td>NaN</td>\n",
       "      <td>BIOLOGICAL THREATS</td>\n",
       "      <td>B2</td>\n",
       "      <td>282</td>\n",
       "      <td>0</td>\n",
       "      <td>2020-03-19 08:30:00</td>\n",
       "      <td>2020</td>\n",
       "      <td>3</td>\n",
       "      <td>Thursday</td>\n",
       "      <td>8</td>\n",
       "      <td>NaN</td>\n",
       "      <td>WARREN ST</td>\n",
       "      <td>42.328234</td>\n",
       "      <td>-71.083289</td>\n",
       "      <td>(42.32823400, -71.08328900)</td>\n",
       "    </tr>\n",
       "    <tr>\n",
       "      <th>515076</th>\n",
       "      <td>020063425</td>\n",
       "      <td>3114</td>\n",
       "      <td>NaN</td>\n",
       "      <td>INVESTIGATE PROPERTY</td>\n",
       "      <td>A7</td>\n",
       "      <td>21</td>\n",
       "      <td>0</td>\n",
       "      <td>2020-09-01 00:00:00</td>\n",
       "      <td>2020</td>\n",
       "      <td>9</td>\n",
       "      <td>Tuesday</td>\n",
       "      <td>0</td>\n",
       "      <td>NaN</td>\n",
       "      <td>PARIS ST</td>\n",
       "      <td>42.374426</td>\n",
       "      <td>-71.035278</td>\n",
       "      <td>(42.37442600, -71.03527800)</td>\n",
       "    </tr>\n",
       "    <tr>\n",
       "      <th>515077</th>\n",
       "      <td>020062356</td>\n",
       "      <td>3115</td>\n",
       "      <td>NaN</td>\n",
       "      <td>INVESTIGATE PERSON</td>\n",
       "      <td>E18</td>\n",
       "      <td>520</td>\n",
       "      <td>0</td>\n",
       "      <td>2020-08-28 18:39:00</td>\n",
       "      <td>2020</td>\n",
       "      <td>8</td>\n",
       "      <td>Friday</td>\n",
       "      <td>18</td>\n",
       "      <td>NaN</td>\n",
       "      <td>HYDE PARK AVE</td>\n",
       "      <td>42.256215</td>\n",
       "      <td>-71.124019</td>\n",
       "      <td>(42.25621500, -71.12401900)</td>\n",
       "    </tr>\n",
       "    <tr>\n",
       "      <th>515078</th>\n",
       "      <td>020054040</td>\n",
       "      <td>3501</td>\n",
       "      <td>NaN</td>\n",
       "      <td>MISSING PERSON</td>\n",
       "      <td>C11</td>\n",
       "      <td></td>\n",
       "      <td>0</td>\n",
       "      <td>2020-07-30 15:30:00</td>\n",
       "      <td>2020</td>\n",
       "      <td>7</td>\n",
       "      <td>Thursday</td>\n",
       "      <td>15</td>\n",
       "      <td>NaN</td>\n",
       "      <td>GIBSON ST</td>\n",
       "      <td>42.297555</td>\n",
       "      <td>-71.059709</td>\n",
       "      <td>(42.29755500, -71.05970900)</td>\n",
       "    </tr>\n",
       "    <tr>\n",
       "      <th>515079</th>\n",
       "      <td>020046400</td>\n",
       "      <td>1501</td>\n",
       "      <td>NaN</td>\n",
       "      <td>WEAPON VIOLATION - CARRY/ POSSESSING/ SALE/ TR...</td>\n",
       "      <td>B2</td>\n",
       "      <td>330</td>\n",
       "      <td>0</td>\n",
       "      <td>2020-07-02 01:38:00</td>\n",
       "      <td>2020</td>\n",
       "      <td>7</td>\n",
       "      <td>Thursday</td>\n",
       "      <td>1</td>\n",
       "      <td>NaN</td>\n",
       "      <td>PASADENA RD</td>\n",
       "      <td>42.305760</td>\n",
       "      <td>-71.083771</td>\n",
       "      <td>(42.30576000, -71.08377100)</td>\n",
       "    </tr>\n",
       "    <tr>\n",
       "      <th>515080</th>\n",
       "      <td>020038446</td>\n",
       "      <td>1501</td>\n",
       "      <td>NaN</td>\n",
       "      <td>WEAPON VIOLATION - CARRY/ POSSESSING/ SALE/ TR...</td>\n",
       "      <td>B2</td>\n",
       "      <td>300</td>\n",
       "      <td>0</td>\n",
       "      <td>2020-06-03 01:15:00</td>\n",
       "      <td>2020</td>\n",
       "      <td>6</td>\n",
       "      <td>Wednesday</td>\n",
       "      <td>1</td>\n",
       "      <td>NaN</td>\n",
       "      <td>WASHINGTON ST</td>\n",
       "      <td>42.323807</td>\n",
       "      <td>-71.089150</td>\n",
       "      <td>(42.32380700, -71.08915000)</td>\n",
       "    </tr>\n",
       "    <tr>\n",
       "      <th>515081</th>\n",
       "      <td>020030892</td>\n",
       "      <td>540</td>\n",
       "      <td>NaN</td>\n",
       "      <td>BURGLARY - COMMERICAL</td>\n",
       "      <td>C11</td>\n",
       "      <td>380</td>\n",
       "      <td>0</td>\n",
       "      <td>2020-05-03 00:00:00</td>\n",
       "      <td>2020</td>\n",
       "      <td>5</td>\n",
       "      <td>Sunday</td>\n",
       "      <td>0</td>\n",
       "      <td>NaN</td>\n",
       "      <td>GALLIVAN BLVD</td>\n",
       "      <td>42.283700</td>\n",
       "      <td>-71.047761</td>\n",
       "      <td>(42.28370000, -71.04776100)</td>\n",
       "    </tr>\n",
       "  </tbody>\n",
       "</table>\n",
       "</div>"
      ],
      "text/plain": [
       "       INCIDENT_NUMBER  OFFENSE_CODE OFFENSE_CODE_GROUP  \\\n",
       "515072       102095489          3115                NaN   \n",
       "515073       102091671          2647                NaN   \n",
       "515074       020224065          3018                NaN   \n",
       "515075       020202856          2672                NaN   \n",
       "515076       020063425          3114                NaN   \n",
       "515077       020062356          3115                NaN   \n",
       "515078       020054040          3501                NaN   \n",
       "515079       020046400          1501                NaN   \n",
       "515080       020038446          1501                NaN   \n",
       "515081       020030892           540                NaN   \n",
       "\n",
       "                                      OFFENSE_DESCRIPTION DISTRICT  \\\n",
       "515072                                 INVESTIGATE PERSON      E18   \n",
       "515073                          THREATS TO DO BODILY HARM       B3   \n",
       "515074                      SICK/INJURED/MEDICAL - POLICE       B2   \n",
       "515075                                 BIOLOGICAL THREATS       B2   \n",
       "515076                               INVESTIGATE PROPERTY       A7   \n",
       "515077                                 INVESTIGATE PERSON      E18   \n",
       "515078                                     MISSING PERSON      C11   \n",
       "515079  WEAPON VIOLATION - CARRY/ POSSESSING/ SALE/ TR...       B2   \n",
       "515080  WEAPON VIOLATION - CARRY/ POSSESSING/ SALE/ TR...       B2   \n",
       "515081                              BURGLARY - COMMERICAL      C11   \n",
       "\n",
       "       REPORTING_AREA SHOOTING     OCCURRED_ON_DATE  YEAR  MONTH DAY_OF_WEEK  \\\n",
       "515072            520        0  2019-11-25 16:30:00  2019     11      Monday   \n",
       "515073            417        0  2019-11-12 12:00:00  2019     11     Tuesday   \n",
       "515074            282        0  2020-03-19 07:30:00  2020      3    Thursday   \n",
       "515075            282        0  2020-03-19 08:30:00  2020      3    Thursday   \n",
       "515076             21        0  2020-09-01 00:00:00  2020      9     Tuesday   \n",
       "515077            520        0  2020-08-28 18:39:00  2020      8      Friday   \n",
       "515078                       0  2020-07-30 15:30:00  2020      7    Thursday   \n",
       "515079            330        0  2020-07-02 01:38:00  2020      7    Thursday   \n",
       "515080            300        0  2020-06-03 01:15:00  2020      6   Wednesday   \n",
       "515081            380        0  2020-05-03 00:00:00  2020      5      Sunday   \n",
       "\n",
       "        HOUR UCR_PART         STREET        Lat       Long  \\\n",
       "515072    16      NaN  HYDE PARK AVE  42.256215 -71.124019   \n",
       "515073    12      NaN        MORA ST  42.282081 -71.073648   \n",
       "515074     7      NaN  WASHINGTON ST  42.353272 -71.173738   \n",
       "515075     8      NaN      WARREN ST  42.328234 -71.083289   \n",
       "515076     0      NaN       PARIS ST  42.374426 -71.035278   \n",
       "515077    18      NaN  HYDE PARK AVE  42.256215 -71.124019   \n",
       "515078    15      NaN      GIBSON ST  42.297555 -71.059709   \n",
       "515079     1      NaN    PASADENA RD  42.305760 -71.083771   \n",
       "515080     1      NaN  WASHINGTON ST  42.323807 -71.089150   \n",
       "515081     0      NaN  GALLIVAN BLVD  42.283700 -71.047761   \n",
       "\n",
       "                           Location  \n",
       "515072  (42.25621500, -71.12401900)  \n",
       "515073  (42.28208100, -71.07364800)  \n",
       "515074  (42.35327200, -71.17373800)  \n",
       "515075  (42.32823400, -71.08328900)  \n",
       "515076  (42.37442600, -71.03527800)  \n",
       "515077  (42.25621500, -71.12401900)  \n",
       "515078  (42.29755500, -71.05970900)  \n",
       "515079  (42.30576000, -71.08377100)  \n",
       "515080  (42.32380700, -71.08915000)  \n",
       "515081  (42.28370000, -71.04776100)  "
      ]
     },
     "execution_count": 8,
     "metadata": {},
     "output_type": "execute_result"
    }
   ],
   "source": [
    "df.tail(10)"
   ]
  },
  {
   "cell_type": "markdown",
   "metadata": {},
   "source": [
    "Let us look at the contents of the data-frame ... \n",
    "\n",
    "| Column Name | Description |\n",
    "| :--          | :--- |\n",
    "| [incident_num] [varchar](20) NOT NULL, | Internal BPD report number |\n",
    "| [offense_code][varchar](25) NULL,| Numerical code of offense description |\n",
    "| [Offense_Code_Group_Description][varchar](80) NULL, | Internal categorization of [offense_description] |\n",
    "| [Offense_Description][varchar](80) NULL, | Primary descriptor of incident |\n",
    "| [district] [varchar](10) NULL,| What district the crime was reported in |\n",
    "| [reporting_area] [varchar](10) NULL, | RA number associated with the where the crime was reported from. |\n",
    "| [shooting][char] (1) NULL, | Indicated a shooting took place. |\n",
    "| [occurred_on] [datetime2](7) NULL, | Earliest date and time the incident could have taken place |\n",
    "| [UCR_Part] [varchar](25) NULL,| Universal Crime Reporting Part number (1,2, 3) |\n",
    "| [street] [varchar](50) NULL,| Street name the incident took place |\n",
    "\n",
    "\n",
    "Offense Codes are [available here](https://data.boston.gov/dataset/6220d948-eae2-4e4b-8723-2dc8e67722a3/resource/3aeccf51-a231-4555-ba21-74572b4c33d6/download/rmsoffensecodes.xlsx)\n",
    "\n",
    "We could also look at the offense codes by reading them in as a data-frame. This is an Excel file so we will have to switch to `.read_excel()`\n"
   ]
  },
  {
   "cell_type": "code",
   "execution_count": 9,
   "metadata": {},
   "outputs": [],
   "source": [
    "offense_codes = pd.read_excel(\"https://data.boston.gov/dataset/6220d948-eae2-4e4b-8723-2dc8e67722a3/resource/3aeccf51-a231-4555-ba21-74572b4c33d6/download/rmsoffensecodes.xlsx\")"
   ]
  },
  {
   "cell_type": "code",
   "execution_count": 10,
   "metadata": {},
   "outputs": [
    {
     "name": "stdout",
     "output_type": "stream",
     "text": [
      "     CODE                                       NAME\n",
      "0     612           LARCENY PURSE SNATCH - NO FORCE \n",
      "1     613                        LARCENY SHOPLIFTING\n",
      "2     615    LARCENY THEFT OF MV PARTS & ACCESSORIES\n",
      "3    1731                                     INCEST\n",
      "4    3111                  LICENSE PREMISE VIOLATION\n",
      "..    ...                                        ...\n",
      "571  1806  DRUGS - CLASS B TRAFFICKING OVER 18 GRAMS\n",
      "572  1807  DRUGS - CLASS D TRAFFICKING OVER 50 GRAMS\n",
      "573  1610    HUMAN TRAFFICKING - COMMERCIAL SEX ACTS\n",
      "574  2010                              HOME INVASION\n",
      "575  1620  HUMAN TRAFFICKING - INVOLUNTARY SERVITUDE\n",
      "\n",
      "[576 rows x 2 columns]\n"
     ]
    }
   ],
   "source": [
    "print(offense_codes)"
   ]
  },
  {
   "cell_type": "markdown",
   "metadata": {},
   "source": [
    "The next step would be to see how many data points we have, and what the minimum, maximum values, what is the average, etc. This can be done with `.describe()`"
   ]
  },
  {
   "cell_type": "code",
   "execution_count": null,
   "metadata": {},
   "outputs": [],
   "source": [
    "df.describe()"
   ]
  },
  {
   "cell_type": "markdown",
   "metadata": {},
   "source": [
    "By default the command will report the values with decimals but we may not want that. Decimals can be `rounded` or removed altogether as shown below."
   ]
  },
  {
   "cell_type": "code",
   "execution_count": null,
   "metadata": {},
   "outputs": [],
   "source": [
    "df.describe().round(2)"
   ]
  },
  {
   "cell_type": "code",
   "execution_count": null,
   "metadata": {},
   "outputs": [],
   "source": [
    "df.describe().round(0)"
   ]
  },
  {
   "cell_type": "markdown",
   "metadata": {},
   "source": [
    "Note a few things here. \n",
    "\n",
    "* We have a total of 515082 incidents logged. But the latitude and longitude are availale for no more than 485909 incidents. \n"
   ]
  },
  {
   "cell_type": "markdown",
   "metadata": {},
   "source": [
    "Say we want to restrict the dataframe just to 2020. How can we do that?"
   ]
  },
  {
   "cell_type": "code",
   "execution_count": null,
   "metadata": {},
   "outputs": [],
   "source": [
    "df20 = df[ df['YEAR'] == 2020 ]"
   ]
  },
  {
   "cell_type": "markdown",
   "metadata": {},
   "source": [
    "Notice the sequence here `dataframe[ dataframe['column-name'] == somevalue ]` & pay attention to the double equal sign `==` which is a strict equality. "
   ]
  },
  {
   "cell_type": "code",
   "execution_count": null,
   "metadata": {},
   "outputs": [],
   "source": [
    "df20.describe()"
   ]
  },
  {
   "cell_type": "markdown",
   "metadata": {},
   "source": [
    "At this point we might be curious to know what types of offenses are most often reported? Before we that, however, let us also see how many unique values of OFFENSE_CODE are there"
   ]
  },
  {
   "cell_type": "code",
   "execution_count": null,
   "metadata": {},
   "outputs": [],
   "source": [
    "df20['OFFENSE_CODE'].nunique()"
   ]
  },
  {
   "cell_type": "code",
   "execution_count": null,
   "metadata": {},
   "outputs": [],
   "source": [
    "df20['OFFENSE_CODE'].value_counts()"
   ]
  },
  {
   "cell_type": "markdown",
   "metadata": {},
   "source": [
    "So code 3301 leads with 6234 reports in 2020, followed by code 3115, then 801, then 3005, and then 3831. Code 3005 is missing from their list so we have no idea what it is!! That is a crime in itself.   "
   ]
  },
  {
   "cell_type": "code",
   "execution_count": null,
   "metadata": {},
   "outputs": [],
   "source": [
    "# Just another way to accomplish the same thing but in a more complicated way.\n",
    "\n",
    "df20.groupby('OFFENSE_CODE')['OFFENSE_CODE'].count().reset_index(name='count').sort_values(['count'], ascending = False) "
   ]
  },
  {
   "cell_type": "markdown",
   "metadata": {},
   "source": [
    "Let us focus in on these verbal disputes. We will do so by creating a new dataframe that is only for OFFENSE_CODE 3301."
   ]
  },
  {
   "cell_type": "code",
   "execution_count": null,
   "metadata": {},
   "outputs": [],
   "source": [
    "dfverbal = df20[ df20['OFFENSE_CODE'] == 3301 ]"
   ]
  },
  {
   "cell_type": "code",
   "execution_count": null,
   "metadata": {},
   "outputs": [],
   "source": [
    "# Now we see this dataframe just to check\n",
    "\n",
    "dfverbal"
   ]
  },
  {
   "cell_type": "markdown",
   "metadata": {},
   "source": [
    "Which days of the week have more verbal disputes?"
   ]
  },
  {
   "cell_type": "code",
   "execution_count": null,
   "metadata": {},
   "outputs": [],
   "source": [
    "dfverbal['DAY_OF_WEEK'].value_counts()"
   ]
  },
  {
   "cell_type": "markdown",
   "metadata": {},
   "source": [
    "Which hour, which streets have the most verbal disputes?"
   ]
  },
  {
   "cell_type": "code",
   "execution_count": null,
   "metadata": {},
   "outputs": [],
   "source": [
    "dfverbal['HOUR'].value_counts()"
   ]
  },
  {
   "cell_type": "code",
   "execution_count": null,
   "metadata": {},
   "outputs": [],
   "source": [
    "dfverbal['STREET'].value_counts()"
   ]
  },
  {
   "cell_type": "markdown",
   "metadata": {},
   "source": [
    "What districts are the worst?"
   ]
  },
  {
   "cell_type": "code",
   "execution_count": null,
   "metadata": {},
   "outputs": [],
   "source": [
    "dfverbal['DISTRICT'].value_counts()"
   ]
  },
  {
   "cell_type": "markdown",
   "metadata": {},
   "source": [
    "Lookup districts C11, B3, and B2 ... what areas are these?"
   ]
  },
  {
   "cell_type": "markdown",
   "metadata": {},
   "source": [
    "# Practice Task 01\n",
    "\n",
    "Pick another data-set from `data.boston.gov` and go through the same commands, picking some interesting element of the dataframe to explore"
   ]
  },
  {
   "cell_type": "code",
   "execution_count": 11,
   "metadata": {},
   "outputs": [],
   "source": [
    "dfcar = pd.read_csv('https://data.boston.gov/dataset/7b29c1b2-7ec2-4023-8292-c24f5d8f0905/resource/e4bfe397-6bfc-49c5-9367-c879fac7401d/download/tmpajuss2fk.csv')"
   ]
  },
  {
   "cell_type": "code",
   "execution_count": 13,
   "metadata": {},
   "outputs": [
    {
     "data": {
      "text/html": [
       "<div>\n",
       "<style scoped>\n",
       "    .dataframe tbody tr th:only-of-type {\n",
       "        vertical-align: middle;\n",
       "    }\n",
       "\n",
       "    .dataframe tbody tr th {\n",
       "        vertical-align: top;\n",
       "    }\n",
       "\n",
       "    .dataframe thead th {\n",
       "        text-align: right;\n",
       "    }\n",
       "</style>\n",
       "<table border=\"1\" class=\"dataframe\">\n",
       "  <thead>\n",
       "    <tr style=\"text-align: right;\">\n",
       "      <th></th>\n",
       "      <th>dispatch_ts</th>\n",
       "      <th>mode_type</th>\n",
       "      <th>location_type</th>\n",
       "      <th>street</th>\n",
       "      <th>xstreet1</th>\n",
       "      <th>xstreet2</th>\n",
       "      <th>x_cord</th>\n",
       "      <th>y_cord</th>\n",
       "      <th>lat</th>\n",
       "      <th>long</th>\n",
       "    </tr>\n",
       "  </thead>\n",
       "  <tbody>\n",
       "    <tr>\n",
       "      <th>0</th>\n",
       "      <td>2015-01-01 00:24:27+00</td>\n",
       "      <td>mv</td>\n",
       "      <td>Intersection</td>\n",
       "      <td>NaN</td>\n",
       "      <td>TRAIN ST</td>\n",
       "      <td>WESTGLOW ST</td>\n",
       "      <td>777243.68</td>\n",
       "      <td>2930930.11</td>\n",
       "      <td>42.289750</td>\n",
       "      <td>-71.052515</td>\n",
       "    </tr>\n",
       "    <tr>\n",
       "      <th>1</th>\n",
       "      <td>2015-01-01 03:50:33+00</td>\n",
       "      <td>mv</td>\n",
       "      <td>Street</td>\n",
       "      <td>RIVER ST</td>\n",
       "      <td>WALTER ST</td>\n",
       "      <td>WINTHROP ST</td>\n",
       "      <td>758927.71</td>\n",
       "      <td>2918981.60</td>\n",
       "      <td>42.257079</td>\n",
       "      <td>-71.120105</td>\n",
       "    </tr>\n",
       "    <tr>\n",
       "      <th>2</th>\n",
       "      <td>2015-01-01 10:14:13+00</td>\n",
       "      <td>ped</td>\n",
       "      <td>Intersection</td>\n",
       "      <td>NaN</td>\n",
       "      <td>LONDON ST</td>\n",
       "      <td>MERIDIAN ST</td>\n",
       "      <td>780725.19</td>\n",
       "      <td>2961410.17</td>\n",
       "      <td>42.373337</td>\n",
       "      <td>-71.039040</td>\n",
       "    </tr>\n",
       "    <tr>\n",
       "      <th>3</th>\n",
       "      <td>2015-01-01 18:23:57+00</td>\n",
       "      <td>bike</td>\n",
       "      <td>Intersection</td>\n",
       "      <td>NaN</td>\n",
       "      <td>OLNEY ST</td>\n",
       "      <td>INWOOD ST</td>\n",
       "      <td>772710.48</td>\n",
       "      <td>2936614.62</td>\n",
       "      <td>42.305413</td>\n",
       "      <td>-71.069163</td>\n",
       "    </tr>\n",
       "    <tr>\n",
       "      <th>4</th>\n",
       "      <td>2015-01-01 18:42:19+00</td>\n",
       "      <td>ped</td>\n",
       "      <td>Intersection</td>\n",
       "      <td>NaN</td>\n",
       "      <td>WASHINGTON ST</td>\n",
       "      <td>COLUMBUS AVE</td>\n",
       "      <td>764813.61</td>\n",
       "      <td>2940364.63</td>\n",
       "      <td>42.315809</td>\n",
       "      <td>-71.098290</td>\n",
       "    </tr>\n",
       "  </tbody>\n",
       "</table>\n",
       "</div>"
      ],
      "text/plain": [
       "              dispatch_ts mode_type location_type    street       xstreet1  \\\n",
       "0  2015-01-01 00:24:27+00        mv  Intersection       NaN       TRAIN ST   \n",
       "1  2015-01-01 03:50:33+00        mv        Street  RIVER ST      WALTER ST   \n",
       "2  2015-01-01 10:14:13+00       ped  Intersection       NaN      LONDON ST   \n",
       "3  2015-01-01 18:23:57+00      bike  Intersection       NaN       OLNEY ST   \n",
       "4  2015-01-01 18:42:19+00       ped  Intersection       NaN  WASHINGTON ST   \n",
       "\n",
       "       xstreet2     x_cord      y_cord        lat       long  \n",
       "0   WESTGLOW ST  777243.68  2930930.11  42.289750 -71.052515  \n",
       "1   WINTHROP ST  758927.71  2918981.60  42.257079 -71.120105  \n",
       "2   MERIDIAN ST  780725.19  2961410.17  42.373337 -71.039040  \n",
       "3     INWOOD ST  772710.48  2936614.62  42.305413 -71.069163  \n",
       "4  COLUMBUS AVE  764813.61  2940364.63  42.315809 -71.098290  "
      ]
     },
     "execution_count": 13,
     "metadata": {},
     "output_type": "execute_result"
    }
   ],
   "source": [
    "dfcar.head(5)"
   ]
  },
  {
   "cell_type": "code",
   "execution_count": 14,
   "metadata": {},
   "outputs": [
    {
     "data": {
      "text/html": [
       "<div>\n",
       "<style scoped>\n",
       "    .dataframe tbody tr th:only-of-type {\n",
       "        vertical-align: middle;\n",
       "    }\n",
       "\n",
       "    .dataframe tbody tr th {\n",
       "        vertical-align: top;\n",
       "    }\n",
       "\n",
       "    .dataframe thead th {\n",
       "        text-align: right;\n",
       "    }\n",
       "</style>\n",
       "<table border=\"1\" class=\"dataframe\">\n",
       "  <thead>\n",
       "    <tr style=\"text-align: right;\">\n",
       "      <th></th>\n",
       "      <th>dispatch_ts</th>\n",
       "      <th>mode_type</th>\n",
       "      <th>location_type</th>\n",
       "      <th>street</th>\n",
       "      <th>xstreet1</th>\n",
       "      <th>xstreet2</th>\n",
       "      <th>x_cord</th>\n",
       "      <th>y_cord</th>\n",
       "      <th>lat</th>\n",
       "      <th>long</th>\n",
       "    </tr>\n",
       "  </thead>\n",
       "  <tbody>\n",
       "    <tr>\n",
       "      <th>23943</th>\n",
       "      <td>2020-08-30 20:49:54+00</td>\n",
       "      <td>ped</td>\n",
       "      <td>Street</td>\n",
       "      <td>BLUE HILL AVE</td>\n",
       "      <td>HAVELOCK ST</td>\n",
       "      <td>WOODROW AVE</td>\n",
       "      <td>766771.53</td>\n",
       "      <td>2929435.86</td>\n",
       "      <td>42.285763</td>\n",
       "      <td>-71.091062</td>\n",
       "    </tr>\n",
       "    <tr>\n",
       "      <th>23944</th>\n",
       "      <td>2020-08-30 20:50:39+00</td>\n",
       "      <td>bike</td>\n",
       "      <td>Street</td>\n",
       "      <td>HUNTINGTON AVE</td>\n",
       "      <td>CRAFTSON WAY</td>\n",
       "      <td>HEATH ST</td>\n",
       "      <td>761343.16</td>\n",
       "      <td>2945550.95</td>\n",
       "      <td>42.330017</td>\n",
       "      <td>-71.111323</td>\n",
       "    </tr>\n",
       "    <tr>\n",
       "      <th>23945</th>\n",
       "      <td>2020-08-30 23:10:01+00</td>\n",
       "      <td>mv</td>\n",
       "      <td>Street</td>\n",
       "      <td>BLUE HILL AVE</td>\n",
       "      <td>WILMORE ST</td>\n",
       "      <td>FESSENDEN ST</td>\n",
       "      <td>766363.63</td>\n",
       "      <td>2927058.68</td>\n",
       "      <td>42.279262</td>\n",
       "      <td>-71.093052</td>\n",
       "    </tr>\n",
       "    <tr>\n",
       "      <th>23946</th>\n",
       "      <td>2020-08-30 23:47:24+00</td>\n",
       "      <td>mv</td>\n",
       "      <td>Intersection</td>\n",
       "      <td>NaN</td>\n",
       "      <td>COLUMBIA RD</td>\n",
       "      <td>COLUMBIA TER</td>\n",
       "      <td>771608.67</td>\n",
       "      <td>2938153.63</td>\n",
       "      <td>42.309651</td>\n",
       "      <td>-71.073208</td>\n",
       "    </tr>\n",
       "    <tr>\n",
       "      <th>23947</th>\n",
       "      <td>2020-08-31 00:46:30+00</td>\n",
       "      <td>mv</td>\n",
       "      <td>Street</td>\n",
       "      <td>AMERICAN LEGION HWY</td>\n",
       "      <td>BRIDGE ST</td>\n",
       "      <td>WALK HILL ST</td>\n",
       "      <td>762618.88</td>\n",
       "      <td>2929938.71</td>\n",
       "      <td>42.287511</td>\n",
       "      <td>-71.106898</td>\n",
       "    </tr>\n",
       "    <tr>\n",
       "      <th>23948</th>\n",
       "      <td>2020-08-31 07:42:19+00</td>\n",
       "      <td>mv</td>\n",
       "      <td>Intersection</td>\n",
       "      <td>NaN</td>\n",
       "      <td>HIGH ST</td>\n",
       "      <td>CONGRESS ST</td>\n",
       "      <td>776546.37</td>\n",
       "      <td>2954582.16</td>\n",
       "      <td>42.354662</td>\n",
       "      <td>-71.054636</td>\n",
       "    </tr>\n",
       "    <tr>\n",
       "      <th>23949</th>\n",
       "      <td>2020-08-31 12:46:41+00</td>\n",
       "      <td>mv</td>\n",
       "      <td>Street</td>\n",
       "      <td>FOREST HILLS ST</td>\n",
       "      <td>ROSSMORE RD</td>\n",
       "      <td>BROOKLEY RD</td>\n",
       "      <td>763161.11</td>\n",
       "      <td>2935565.21</td>\n",
       "      <td>42.302655</td>\n",
       "      <td>-71.104475</td>\n",
       "    </tr>\n",
       "    <tr>\n",
       "      <th>23950</th>\n",
       "      <td>2020-08-31 17:00:53+00</td>\n",
       "      <td>mv</td>\n",
       "      <td>Intersection</td>\n",
       "      <td>NaN</td>\n",
       "      <td>HENDRY ST</td>\n",
       "      <td>BOWDOIN ST</td>\n",
       "      <td>774005.80</td>\n",
       "      <td>2937832.63</td>\n",
       "      <td>42.308737</td>\n",
       "      <td>-71.064352</td>\n",
       "    </tr>\n",
       "    <tr>\n",
       "      <th>23951</th>\n",
       "      <td>2020-08-31 17:38:23+00</td>\n",
       "      <td>ped</td>\n",
       "      <td>Intersection</td>\n",
       "      <td>NaN</td>\n",
       "      <td>ATKINSON ST</td>\n",
       "      <td>SOUTHAMPTON ST</td>\n",
       "      <td>772685.21</td>\n",
       "      <td>2946272.18</td>\n",
       "      <td>42.331914</td>\n",
       "      <td>-71.069076</td>\n",
       "    </tr>\n",
       "    <tr>\n",
       "      <th>23952</th>\n",
       "      <td>2020-08-31 22:30:20+00</td>\n",
       "      <td>mv</td>\n",
       "      <td>Intersection</td>\n",
       "      <td>NaN</td>\n",
       "      <td>WALK HILL ST</td>\n",
       "      <td>BOURNE ST</td>\n",
       "      <td>760767.71</td>\n",
       "      <td>2932091.36</td>\n",
       "      <td>42.293157</td>\n",
       "      <td>-71.113388</td>\n",
       "    </tr>\n",
       "  </tbody>\n",
       "</table>\n",
       "</div>"
      ],
      "text/plain": [
       "                  dispatch_ts mode_type location_type               street  \\\n",
       "23943  2020-08-30 20:49:54+00       ped        Street        BLUE HILL AVE   \n",
       "23944  2020-08-30 20:50:39+00      bike        Street       HUNTINGTON AVE   \n",
       "23945  2020-08-30 23:10:01+00        mv        Street        BLUE HILL AVE   \n",
       "23946  2020-08-30 23:47:24+00        mv  Intersection                  NaN   \n",
       "23947  2020-08-31 00:46:30+00        mv        Street  AMERICAN LEGION HWY   \n",
       "23948  2020-08-31 07:42:19+00        mv  Intersection                  NaN   \n",
       "23949  2020-08-31 12:46:41+00        mv        Street      FOREST HILLS ST   \n",
       "23950  2020-08-31 17:00:53+00        mv  Intersection                  NaN   \n",
       "23951  2020-08-31 17:38:23+00       ped  Intersection                  NaN   \n",
       "23952  2020-08-31 22:30:20+00        mv  Intersection                  NaN   \n",
       "\n",
       "           xstreet1        xstreet2     x_cord      y_cord        lat  \\\n",
       "23943   HAVELOCK ST     WOODROW AVE  766771.53  2929435.86  42.285763   \n",
       "23944  CRAFTSON WAY        HEATH ST  761343.16  2945550.95  42.330017   \n",
       "23945    WILMORE ST    FESSENDEN ST  766363.63  2927058.68  42.279262   \n",
       "23946   COLUMBIA RD    COLUMBIA TER  771608.67  2938153.63  42.309651   \n",
       "23947     BRIDGE ST    WALK HILL ST  762618.88  2929938.71  42.287511   \n",
       "23948       HIGH ST     CONGRESS ST  776546.37  2954582.16  42.354662   \n",
       "23949   ROSSMORE RD     BROOKLEY RD  763161.11  2935565.21  42.302655   \n",
       "23950     HENDRY ST      BOWDOIN ST  774005.80  2937832.63  42.308737   \n",
       "23951   ATKINSON ST  SOUTHAMPTON ST  772685.21  2946272.18  42.331914   \n",
       "23952  WALK HILL ST       BOURNE ST  760767.71  2932091.36  42.293157   \n",
       "\n",
       "            long  \n",
       "23943 -71.091062  \n",
       "23944 -71.111323  \n",
       "23945 -71.093052  \n",
       "23946 -71.073208  \n",
       "23947 -71.106898  \n",
       "23948 -71.054636  \n",
       "23949 -71.104475  \n",
       "23950 -71.064352  \n",
       "23951 -71.069076  \n",
       "23952 -71.113388  "
      ]
     },
     "execution_count": 14,
     "metadata": {},
     "output_type": "execute_result"
    }
   ],
   "source": [
    "dfcar.tail(10)"
   ]
  },
  {
   "cell_type": "code",
   "execution_count": 15,
   "metadata": {},
   "outputs": [
    {
     "data": {
      "text/plain": [
       "WASHINGTON ST        657\n",
       "BLUE HILL AVE        397\n",
       "DORCHESTER AVE       251\n",
       "COLUMBIA RD          243\n",
       "MASSACHUSETTS AVE    235\n",
       "                    ... \n",
       "GOODWIN CT             1\n",
       "SEAVERNS AVE           1\n",
       "CHURCH ST              1\n",
       "GERMANIA ST            1\n",
       "IROQUOIS ST            1\n",
       "Name: street, Length: 1259, dtype: int64"
      ]
     },
     "execution_count": 15,
     "metadata": {},
     "output_type": "execute_result"
    }
   ],
   "source": [
    "dfcar['street'].value_counts()"
   ]
  },
  {
   "cell_type": "code",
   "execution_count": 16,
   "metadata": {},
   "outputs": [
    {
     "data": {
      "text/plain": [
       "Intersection    11718\n",
       "Street          10269\n",
       "Other            1966\n",
       "Name: location_type, dtype: int64"
      ]
     },
     "execution_count": 16,
     "metadata": {},
     "output_type": "execute_result"
    }
   ],
   "source": [
    "dfcar['location_type'].value_counts()"
   ]
  },
  {
   "cell_type": "code",
   "execution_count": 17,
   "metadata": {},
   "outputs": [
    {
     "data": {
      "text/plain": [
       "mv      17566\n",
       "ped      4078\n",
       "bike     2309\n",
       "Name: mode_type, dtype: int64"
      ]
     },
     "execution_count": 17,
     "metadata": {},
     "output_type": "execute_result"
    }
   ],
   "source": [
    "dfcar['mode_type'].value_counts()"
   ]
  },
  {
   "cell_type": "markdown",
   "metadata": {},
   "source": [
    " ## What if we have local data, sitting in a folder called, data?¶"
   ]
  },
  {
   "cell_type": "code",
   "execution_count": null,
   "metadata": {},
   "outputs": [],
   "source": [
    "bm15 = pd.read_csv(\"data/marathon_results_2015.csv\")\n",
    "bm15.head()"
   ]
  },
  {
   "cell_type": "code",
   "execution_count": null,
   "metadata": {},
   "outputs": [],
   "source": [
    "bm16 = pd.read_csv(\"data/marathon_results_2016.csv\")\n",
    "bm16.head()"
   ]
  },
  {
   "cell_type": "code",
   "execution_count": null,
   "metadata": {},
   "outputs": [],
   "source": [
    "bm17 = pd.read_csv(\"data/marathon_results_2017.csv\")\n",
    "bm17.head()"
   ]
  },
  {
   "cell_type": "markdown",
   "metadata": {},
   "source": [
    "Notice the extra first column in `bm15` and `bm17` ... these should be dropped. \n",
    "\n",
    "We can then create an indicator for which year the race data are from, and then combine all three data-frames so that we have a single file. When we do this we will write it out as a `csv` file too."
   ]
  },
  {
   "cell_type": "code",
   "execution_count": null,
   "metadata": {},
   "outputs": [],
   "source": [
    "bm15 = bm15.drop(columns = 'Unnamed: 0')\n",
    "bm15.head()"
   ]
  },
  {
   "cell_type": "code",
   "execution_count": null,
   "metadata": {},
   "outputs": [],
   "source": [
    "bm17 = bm17.drop(columns = 'Unnamed: 0')\n",
    "bm17.head()"
   ]
  },
  {
   "cell_type": "code",
   "execution_count": null,
   "metadata": {},
   "outputs": [],
   "source": [
    "bm15['Year'] = '2015'\n",
    "bm16['Year'] = '2016'\n",
    "bm17['Year'] = '2017'"
   ]
  },
  {
   "cell_type": "markdown",
   "metadata": {},
   "source": [
    "Now we bind the rows (i.e., stack one data-frame on top of the other with `concat( [dfi, dfj, dfk] ) "
   ]
  },
  {
   "cell_type": "code",
   "execution_count": null,
   "metadata": {},
   "outputs": [],
   "source": [
    "bm_df = pd.concat([bm15, bm16, bm17])"
   ]
  },
  {
   "cell_type": "code",
   "execution_count": null,
   "metadata": {},
   "outputs": [],
   "source": [
    "bm_df.shape \n",
    "\n",
    "# How many rows and how many columns do we have? \n",
    "# This is a good step to check if we stacked the data-frames correctly or not"
   ]
  },
  {
   "cell_type": "markdown",
   "metadata": {},
   "source": [
    "### How many runners per year?"
   ]
  },
  {
   "cell_type": "code",
   "execution_count": null,
   "metadata": {},
   "outputs": [],
   "source": [
    "bm_df['Year'].value_counts()"
   ]
  },
  {
   "cell_type": "markdown",
   "metadata": {},
   "source": [
    "### How many Male/Female runners per year?"
   ]
  },
  {
   "cell_type": "code",
   "execution_count": null,
   "metadata": {},
   "outputs": [],
   "source": [
    "bm_df.groupby('M/F')['Year'].value_counts()"
   ]
  },
  {
   "cell_type": "code",
   "execution_count": null,
   "metadata": {},
   "outputs": [],
   "source": [
    "# The proportion of Male/Female runners, by Year\n",
    "\n",
    "bm_df.groupby('Year')['M/F'].value_counts(normalize = True)"
   ]
  },
  {
   "cell_type": "code",
   "execution_count": null,
   "metadata": {},
   "outputs": [],
   "source": []
  },
  {
   "cell_type": "code",
   "execution_count": null,
   "metadata": {},
   "outputs": [],
   "source": []
  }
 ],
 "metadata": {
  "kernelspec": {
   "display_name": "Python 3",
   "language": "python",
   "name": "python3"
  },
  "language_info": {
   "codemirror_mode": {
    "name": "ipython",
    "version": 3
   },
   "file_extension": ".py",
   "mimetype": "text/x-python",
   "name": "python",
   "nbconvert_exporter": "python",
   "pygments_lexer": "ipython3",
   "version": "3.7.8"
  }
 },
 "nbformat": 4,
 "nbformat_minor": 4
}
