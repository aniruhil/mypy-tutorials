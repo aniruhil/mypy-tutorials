{
 "cells": [
  {
   "cell_type": "markdown",
   "metadata": {},
   "source": [
    "# Tutorial-02: Cleaning up and More Operations"
   ]
  },
  {
   "cell_type": "markdown",
   "metadata": {},
   "source": [
    "We start as usual by loading up some libraries we will need."
   ]
  },
  {
   "cell_type": "code",
   "execution_count": null,
   "metadata": {},
   "outputs": [],
   "source": [
    "import pandas as pd\n",
    "import numpy as np"
   ]
  },
  {
   "cell_type": "code",
   "execution_count": null,
   "metadata": {},
   "outputs": [],
   "source": [
    "# The Food Establisment Inspection Data\n",
    "df = pd.read_csv(\"https://data.boston.gov/dataset/03693648-2c62-4a2c-a4ec-48de2ee14e18/resource/4582bec6-2b4f-4f9e-bc55-cbaa73117f4c/download/tmpdbqq_szy.csv\")"
   ]
  },
  {
   "cell_type": "code",
   "execution_count": null,
   "metadata": {},
   "outputs": [],
   "source": [
    "df.head(5)"
   ]
  },
  {
   "cell_type": "code",
   "execution_count": null,
   "metadata": {},
   "outputs": [],
   "source": [
    "df['businessname'].value_counts()"
   ]
  },
  {
   "cell_type": "markdown",
   "metadata": {},
   "source": [
    "We need to convert Dunkin' to Dunkin and this is done with .replace({\"this\":\"with that\"})"
   ]
  },
  {
   "cell_type": "code",
   "execution_count": null,
   "metadata": {},
   "outputs": [],
   "source": [
    "df['businessname'] = df['businessname'].replace({\"Dunkin' Donuts\":\"Dunkin Donuts\"})"
   ]
  },
  {
   "cell_type": "code",
   "execution_count": null,
   "metadata": {},
   "outputs": [],
   "source": [
    "# Did it work?\n",
    "df['businessname'].value_counts()"
   ]
  },
  {
   "cell_type": "markdown",
   "metadata": {},
   "source": [
    "We could do multiple replace statements in a single line of code. "
   ]
  },
  {
   "cell_type": "code",
   "execution_count": null,
   "metadata": {},
   "outputs": [],
   "source": [
    "df['businessname'] = df['businessname'].replace({\"Dunkin' Donuts\":\"Dunkin Donuts\", \"Mcdonalds\":\"McDonald's\"})"
   ]
  },
  {
   "cell_type": "code",
   "execution_count": null,
   "metadata": {},
   "outputs": [],
   "source": [
    "df['businessname'].value_counts()"
   ]
  },
  {
   "cell_type": "markdown",
   "metadata": {},
   "source": [
    "Let us see what we can find for establishments in Lexington"
   ]
  },
  {
   "cell_type": "code",
   "execution_count": null,
   "metadata": {},
   "outputs": [],
   "source": [
    "df_lex = df[ df[\"city\"] == \"Lexington\" ]"
   ]
  },
  {
   "cell_type": "code",
   "execution_count": null,
   "metadata": {},
   "outputs": [],
   "source": [
    "df_lex"
   ]
  },
  {
   "cell_type": "code",
   "execution_count": null,
   "metadata": {},
   "outputs": [],
   "source": [
    "df_bos = df[ df['city'] == \"Boston\" ]"
   ]
  },
  {
   "cell_type": "code",
   "execution_count": null,
   "metadata": {},
   "outputs": [],
   "source": [
    "df_bos"
   ]
  },
  {
   "cell_type": "code",
   "execution_count": null,
   "metadata": {},
   "outputs": [],
   "source": [
    "df_bos.head(5)"
   ]
  },
  {
   "cell_type": "markdown",
   "metadata": {},
   "source": [
    "What establishments have the most violations in Boston?"
   ]
  },
  {
   "cell_type": "code",
   "execution_count": null,
   "metadata": {},
   "outputs": [],
   "source": [
    "df_bos['businessname'].value_counts()"
   ]
  },
  {
   "cell_type": "markdown",
   "metadata": {},
   "source": [
    "What legal owner seems to have the most violations? "
   ]
  },
  {
   "cell_type": "code",
   "execution_count": null,
   "metadata": {},
   "outputs": [],
   "source": [
    "df['legalowner'].value_counts()"
   ]
  },
  {
   "cell_type": "markdown",
   "metadata": {},
   "source": [
    "Now it might a good idea to dig into this McCoy dude."
   ]
  },
  {
   "cell_type": "code",
   "execution_count": null,
   "metadata": {},
   "outputs": [],
   "source": [
    "df_mccoy = df[ df['legalowner'] == \"MCCOY RICHARD\" ]"
   ]
  },
  {
   "cell_type": "code",
   "execution_count": null,
   "metadata": {},
   "outputs": [],
   "source": [
    "df_mccoy['businessname'].value_counts()"
   ]
  },
  {
   "cell_type": "markdown",
   "metadata": {},
   "source": [
    "What do each of the first four businesses get most dinged for?"
   ]
  },
  {
   "cell_type": "code",
   "execution_count": null,
   "metadata": {},
   "outputs": [],
   "source": [
    "df_mccoy.groupby(['businessname'])['comments'].value_counts()"
   ]
  },
  {
   "cell_type": "markdown",
   "metadata": {},
   "source": [
    "## Back to the Boston Marathon"
   ]
  },
  {
   "cell_type": "code",
   "execution_count": null,
   "metadata": {},
   "outputs": [],
   "source": [
    "bm15 = pd.read_csv(\"data/marathon_results_2015.csv\")\n",
    "bm16 = pd.read_csv(\"data/marathon_results_2016.csv\")\n",
    "bm17 = pd.read_csv(\"data/marathon_results_2017.csv\")\n",
    "\n",
    "bm15 = bm15.drop(columns = 'Unnamed: 0')\n",
    "bm17 = bm17.drop(columns = 'Unnamed: 0')\n",
    "\n",
    "bm_df = pd.concat([bm15, bm16, bm17])"
   ]
  },
  {
   "cell_type": "code",
   "execution_count": null,
   "metadata": {},
   "outputs": [],
   "source": [
    "bm_df.head(5)"
   ]
  },
  {
   "cell_type": "markdown",
   "metadata": {},
   "source": [
    "### Now we ask, using just the 2017 data: \n",
    "\n",
    "(1) What country had the most runners?  \n",
    "(2) Does this vary between Male and Female runners?"
   ]
  },
  {
   "cell_type": "code",
   "execution_count": null,
   "metadata": {},
   "outputs": [],
   "source": [
    "bm17['Country'].value_counts()"
   ]
  },
  {
   "cell_type": "code",
   "execution_count": null,
   "metadata": {},
   "outputs": [],
   "source": [
    "# It would be good to eliminate the USA rows since we know most runners will be domestic.\n",
    "\n",
    "bm17[bm17.Country != \"USA\"]['Country'].value_counts()"
   ]
  },
  {
   "cell_type": "code",
   "execution_count": null,
   "metadata": {},
   "outputs": [],
   "source": [
    "# Now we look at Men and Women but before we do that we rename that column since M/F will cause trouble. \n",
    "\n",
    "bm17.rename(columns = {\"M/F\":\"MaleFemale\"}, inplace = True)\n",
    "\n",
    "# `inplace = True` ensures that the column name is overwritten in bm17 otherwise it is just a temporary name change. "
   ]
  },
  {
   "cell_type": "code",
   "execution_count": null,
   "metadata": {},
   "outputs": [],
   "source": [
    "bm17[bm17.MaleFemale == \"F\"]['Country'].value_counts()"
   ]
  },
  {
   "cell_type": "code",
   "execution_count": null,
   "metadata": {},
   "outputs": [],
   "source": [
    "bm17[bm17.MaleFemale == \"M\"]['Country'].value_counts()"
   ]
  },
  {
   "cell_type": "markdown",
   "metadata": {},
   "source": [
    "Now let us see the average age, average finishing time, and so on. We will use the Mean and the Median. "
   ]
  },
  {
   "cell_type": "code",
   "execution_count": null,
   "metadata": {},
   "outputs": [],
   "source": [
    "list(bm17.columns)"
   ]
  },
  {
   "cell_type": "code",
   "execution_count": null,
   "metadata": {},
   "outputs": [],
   "source": [
    "bm17.rename(columns = {\"Official Time\":\"FinishTime\", \"Proj Time\":\"ProjectedTime\"}, inplace = True)\n",
    "\n",
    "bm17.describe()"
   ]
  },
  {
   "cell_type": "markdown",
   "metadata": {},
   "source": [
    "Hmm, why is it not giving us anything more than these four columns? Because the other columns are not stored as numbers. We will have to convert them before we can calculate a mean, etc. But converting wil also involve oe extra step ... they are reporting times in hours, minutes, and seconds but it will have to be either in seconds or minutes. "
   ]
  },
  {
   "cell_type": "code",
   "execution_count": null,
   "metadata": {},
   "outputs": [],
   "source": [
    "bm17['FinishTime'] = pd.to_timedelta(bm17['FinishTime']).astype('timedelta64[s]').astype(int).reset_index()"
   ]
  },
  {
   "cell_type": "code",
   "execution_count": null,
   "metadata": {},
   "outputs": [],
   "source": [
    "# The command that follows will show us how each column is stored. \n",
    "# Anything listed as an `object` implies it is stored as something other than a number.\n",
    "\n",
    "bm17.dtypes"
   ]
  },
  {
   "cell_type": "code",
   "execution_count": null,
   "metadata": {},
   "outputs": [],
   "source": [
    "# Now we check the means again with `.describe()`\n",
    "\n",
    "bm17.describe()"
   ]
  },
  {
   "cell_type": "code",
   "execution_count": null,
   "metadata": {},
   "outputs": [],
   "source": [
    "# What about averages by MaleFemale?\n",
    "\n",
    "bm17.groupby('MaleFemale').describe()"
   ]
  },
  {
   "cell_type": "code",
   "execution_count": null,
   "metadata": {},
   "outputs": [],
   "source": [
    "# Maybe seconds was a bad idea. How about if we convert it to Minutes? To hours?\n",
    "\n",
    "bm17['FinishTimeM'] = bm17['FinishTime']/60 \n",
    "bm17['FinishTimeH'] = bm17['FinishTime']/3600 "
   ]
  },
  {
   "cell_type": "code",
   "execution_count": null,
   "metadata": {},
   "outputs": [],
   "source": [
    "bm17.groupby('MaleFemale').describe()"
   ]
  },
  {
   "cell_type": "code",
   "execution_count": null,
   "metadata": {},
   "outputs": [],
   "source": [
    "import seaborn as sns\n",
    "sns.set_theme()"
   ]
  },
  {
   "cell_type": "code",
   "execution_count": null,
   "metadata": {},
   "outputs": [],
   "source": [
    "sns.displot(bm17, x = \"Age\")"
   ]
  },
  {
   "cell_type": "code",
   "execution_count": null,
   "metadata": {},
   "outputs": [],
   "source": [
    "# What if we split it out by Age?\n",
    "\n",
    "sns.displot(bm17, x = \"Age\", hue = \"MaleFemale\", col = \"MaleFemale\", multiple = \"dodge\")"
   ]
  },
  {
   "cell_type": "markdown",
   "metadata": {},
   "source": [
    "Maybe we organzie this better, by collapsing runners into age categories. "
   ]
  },
  {
   "cell_type": "code",
   "execution_count": null,
   "metadata": {},
   "outputs": [],
   "source": [
    "sns.displot(bm17, x = \"Age\", hue = \"MaleFemale\", col = \"MaleFemale\", multiple = \"dodge\", bins = 10)"
   ]
  },
  {
   "cell_type": "code",
   "execution_count": null,
   "metadata": {},
   "outputs": [],
   "source": [
    "sns.displot(bm17, x = \"Age\", hue = \"MaleFemale\", col = \"MaleFemale\", multiple = \"dodge\", bins = 5)"
   ]
  },
  {
   "cell_type": "markdown",
   "metadata": {},
   "source": [
    "### Creating a grouped version of Age"
   ]
  },
  {
   "cell_type": "code",
   "execution_count": null,
   "metadata": {},
   "outputs": [],
   "source": [
    "# Say we want the groups to be <= 20, 21-30, 31-40, 41-50, 51-60, 61-70, 70+\n",
    "\n",
    "mybins = [0, 21, 31, 41, 51, 61, 71, 100]\n",
    "\n",
    "mylabels = [\"<= 20\", \"21-30\", \"31-40\", \"41-50\", \"51-60\", \"61-70\", \"71+\"]\n",
    "\n",
    "bm17['AgeGrouped'] = pd.cut(bm17['Age'], bins = mybins, labels = mylabels, ordered = True)"
   ]
  },
  {
   "cell_type": "markdown",
   "metadata": {},
   "source": [
    "`IMPORTANT:` You need one less label that you have distinct values in the binds. Compare `mybins` to `mylabels`"
   ]
  },
  {
   "cell_type": "code",
   "execution_count": null,
   "metadata": {},
   "outputs": [],
   "source": [
    "# I am using `sort = False` so that we see the number of runners in each age group in ascending order of the age\n",
    "# groups. If we do not add this the result will be sorted in descending order of the frequencies \n",
    "\n",
    "bm17['AgeGrouped'].value_counts(sort = False)"
   ]
  },
  {
   "cell_type": "markdown",
   "metadata": {},
   "source": [
    "Now we can mess around with the data more by asking, what is mean and median finishing time by age-group of male versus female runners"
   ]
  },
  {
   "cell_type": "code",
   "execution_count": null,
   "metadata": {},
   "outputs": [],
   "source": [
    "bm17.groupby(['MaleFemale', 'AgeGrouped'])['FinishTimeH'].mean().round(2)"
   ]
  },
  {
   "cell_type": "code",
   "execution_count": null,
   "metadata": {},
   "outputs": [],
   "source": [
    "# Means can distort the picture if we have skewed distributions so how about the median instead?\n",
    "bm17.groupby(['MaleFemale', 'AgeGrouped'])['FinishTimeH'].median().round(2)"
   ]
  },
  {
   "cell_type": "markdown",
   "metadata": {},
   "source": [
    "Some interesting stuff here in that The fastest average time is in the 21-30 group of both Men and Women, no matter what measure of \"average\" one takes. "
   ]
  },
  {
   "cell_type": "code",
   "execution_count": null,
   "metadata": {
    "scrolled": true
   },
   "outputs": [],
   "source": [
    "# Now we pull out some more statistics to see which group has the highest variance \n",
    "\n",
    "bm17.groupby(['MaleFemale', 'AgeGrouped'])['FinishTimeH'].aggregate(['median', 'mean', 'std', 'var']).round(2)"
   ]
  },
  {
   "cell_type": "markdown",
   "metadata": {},
   "source": [
    "Surprise, surprise, it is the 21-30 group for both Males and Females. The winners are in this age-bracket so we should have expectd this from the outset. Least variability is in the 71+ age-bracket. "
   ]
  },
  {
   "cell_type": "markdown",
   "metadata": {},
   "source": [
    "### How many runners ran in only one of the races but not the others? How many ran in all three?"
   ]
  },
  {
   "cell_type": "code",
   "execution_count": null,
   "metadata": {},
   "outputs": [],
   "source": [
    "# We are creating a new column called `nrow` that will look at unique combinations of Name, M/F, City, and Country \n",
    "# and count how many rows do we see per person. The maximum should be 3, indicating these individuals ran in all three\n",
    "# marathons\n",
    "\n",
    "bm_df['nrow'] = bm_df.groupby(['Name', 'M/F', 'City', 'Country']).cumcount()+1"
   ]
  },
  {
   "cell_type": "code",
   "execution_count": null,
   "metadata": {},
   "outputs": [],
   "source": [
    "# Now the frequency table ...\n",
    "\n",
    "bm_df['nrow'].value_counts()"
   ]
  },
  {
   "cell_type": "code",
   "execution_count": null,
   "metadata": {},
   "outputs": [],
   "source": [
    "# Were men more likely to run in all three or were women more likely to do so? Answer turns out to be Men. \n",
    "\n",
    "bm_df.groupby(['M/F'])['nrow'].value_counts()"
   ]
  },
  {
   "cell_type": "code",
   "execution_count": null,
   "metadata": {},
   "outputs": [],
   "source": []
  },
  {
   "cell_type": "markdown",
   "metadata": {},
   "source": [
    "## Et voila, le fin!!"
   ]
  },
  {
   "cell_type": "code",
   "execution_count": null,
   "metadata": {},
   "outputs": [],
   "source": []
  }
 ],
 "metadata": {
  "kernelspec": {
   "display_name": "Python 3",
   "language": "python",
   "name": "python3"
  },
  "language_info": {
   "codemirror_mode": {
    "name": "ipython",
    "version": 3
   },
   "file_extension": ".py",
   "mimetype": "text/x-python",
   "name": "python",
   "nbconvert_exporter": "python",
   "pygments_lexer": "ipython3",
   "version": "3.7.6"
  }
 },
 "nbformat": 4,
 "nbformat_minor": 4
}
